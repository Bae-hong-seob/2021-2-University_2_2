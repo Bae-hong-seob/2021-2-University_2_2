{
 "cells": [
  {
   "cell_type": "code",
   "execution_count": 1,
   "id": "7f0ec45d",
   "metadata": {
    "scrolled": false
   },
   "outputs": [
    {
     "name": "stdout",
     "output_type": "stream",
     "text": [
      "조인할 파일 2개를 입력하세요 : input1.txt input2.txt\n"
     ]
    }
   ],
   "source": [
    "file1,file2 = input(\"조인할 파일 2개를 입력하세요 : \").split()\n",
    "#print(file1)\n",
    "#print(file2)"
   ]
  },
  {
   "cell_type": "code",
   "execution_count": 2,
   "id": "39a87955",
   "metadata": {
    "scrolled": false
   },
   "outputs": [],
   "source": [
    "#input1.txt 릴레이션 생성\n",
    "with open(file1,'r') as f:\n",
    "    lines = f.readline()\n",
    "    flist = lines.split()\n",
    "    flist=list(map(int,flist))\n",
    "    COLUMN1 = flist[0]\n",
    "    ROW1 = flist[1]\n",
    "    \n",
    "    # 2차원 배열 생성 = table \n",
    "    board1 = [[0 for i in range(COLUMN1)] for j in range(ROW1)] \n",
    "    \n",
    "    for i in range(0,ROW1):\n",
    "        lines = f.readline()\n",
    "        flist = lines.split()\n",
    "        for j in range(0,COLUMN1):\n",
    "            board1[i][j] = flist[j]\n",
    "            #print(board1[i][j]) #board[row][column]"
   ]
  },
  {
   "cell_type": "code",
   "execution_count": 3,
   "id": "4dcb2fe0",
   "metadata": {
    "scrolled": false
   },
   "outputs": [],
   "source": [
    "#input2.txt 릴레이션 생성\n",
    "with open(file2,'r') as f:\n",
    "    lines = f.readline()\n",
    "    flist = lines.split()\n",
    "    flist=list(map(int,flist))\n",
    "    COLUMN2 = flist[0]\n",
    "    ROW2 = flist[1]\n",
    "    \n",
    "    # 2차원 배열 생성 = table\n",
    "    board2 = [[0 for i in range(COLUMN2)] for j in range(ROW2)] \n",
    "    \n",
    "    for i in range(0,ROW2):\n",
    "        lines = f.readline()\n",
    "        flist = lines.split()\n",
    "        for j in range(0,COLUMN2):\n",
    "            board2[i][j] = flist[j]\n",
    "            #print(board2[i][j])"
   ]
  },
  {
   "cell_type": "code",
   "execution_count": 4,
   "id": "7068d1ab",
   "metadata": {
    "scrolled": true
   },
   "outputs": [],
   "source": [
    "result = [[0 for i in range(COLUMN1+COLUMN2)] for j in range(ROW1*ROW2)]"
   ]
  },
  {
   "cell_type": "code",
   "execution_count": 5,
   "id": "f110c99d",
   "metadata": {},
   "outputs": [
    {
     "name": "stdout",
     "output_type": "stream",
     "text": [
      "조인 방법을 선택하세요 (1. Nested loop 2. Block Nested loop): 2\n",
      "조인할 각 컬럼 값들을 입력하세요 : 24 69\n",
      "한 블록 내의 투플 개수를 입력하세요 : 30\n"
     ]
    }
   ],
   "source": [
    "join_how = int(input(\"조인 방법을 선택하세요 (1. Nested loop 2. Block Nested loop): \"))\n",
    "\n",
    "join_column1,join_column2 = input(\"조인할 각 컬럼 값들을 입력하세요 : \").split()\n",
    "join_column1 = int(join_column1)\n",
    "join_column2 = int(join_column2)\n",
    "\n",
    "block_size = int(input(\"한 블록 내의 투플 개수를 입력하세요 : \"))"
   ]
  },
  {
   "cell_type": "code",
   "execution_count": 14,
   "id": "3500c992",
   "metadata": {},
   "outputs": [
    {
     "name": "stdout",
     "output_type": "stream",
     "text": [
      "Block Nested loop\n",
      "Result rows :  245\n",
      "블록의 접근횟수 :  306\n"
     ]
    }
   ],
   "source": [
    "if join_how == 1:\n",
    "    print(\"Nested loop\")\n",
    "    join_count = 0 #조인횟수\n",
    "    n = 0 #블록접근횟수\n",
    "\n",
    "    for outer_count in range(COLUMN1):\n",
    "        current = 0 #현재 COLUMN2 인덱스값\n",
    "\n",
    "        for block in range((COLUMN2 // block_size)+1):\n",
    "            current = block_size*block #블록단위 인덱스 이동\n",
    "            n+=1\n",
    "            for inner_count in range(block_size):\n",
    "                if current+inner_count >= COLUMN2:\n",
    "                    if COLUMN2 % block_size == 0:\n",
    "                        n-=1\n",
    "                    break;\n",
    "                if board1[outer_count][join_column1] == board2[current+inner_count][join_column2]:\n",
    "                    for i in range(500):\n",
    "                        result[join_count][i] = board1[outer_count][i]\n",
    "                    for j in range(500):\n",
    "                        result[join_count][500+j] = board2[current+inner_count][j]\n",
    "                    join_count += 1\n",
    "                    \n",
    "elif join_how == 2: \n",
    "    print(\"Block Nested loop\")\n",
    "    join_count = 0 #조인횟수\n",
    "    n = 0 #블록접근횟수\n",
    "    \n",
    "    for block1 in range((COLUMN1 // block_size)+1):\n",
    "        current1 = block_size*block1 #현재 COLUMN1 인덱스값\n",
    "        if current1 == COLUMN1:\n",
    "            break\n",
    "        n+=1\n",
    "        \n",
    "        for block2 in range((COLUMN1 // block_size)+1):\n",
    "            current2 = block_size*block2 #현재 COLUMN2 인덱스값\n",
    "            if current2 == COLUMN2:\n",
    "                break\n",
    "            n+=1\n",
    "            for outer_count in range(block_size):\n",
    "                if current1+outer_count >= COLUMN1:\n",
    "                    break;\n",
    "                for inner_count in range(block_size):\n",
    "                    if current2+inner_count >= COLUMN2:\n",
    "                        break;\n",
    "                    if board1[current1+outer_count][join_column1] == board2[current2+inner_count][join_column2]:\n",
    "                        for i in range(500):\n",
    "                            result[join_count][i] = board1[current1+outer_count][i]\n",
    "                        for j in range(500):\n",
    "                            result[join_count][500+j] = board2[current2+inner_count][j]\n",
    "                        join_count += 1\n",
    "\n",
    "\n",
    "                \n",
    "else: print(\"다시 입력하세요\")\n",
    "print(\"Result rows : \",join_count)\n",
    "print(\"블록의 접근횟수 : \",n)"
   ]
  },
  {
   "cell_type": "code",
   "execution_count": 12,
   "id": "b99195c1",
   "metadata": {},
   "outputs": [
    {
     "name": "stdout",
     "output_type": "stream",
     "text": [
      "출력할 파일명을 입력하세요 : output.txt\n"
     ]
    }
   ],
   "source": [
    "output = input(\"출력할 파일명을 입력하세요 : \")\n",
    "with open(output,'w') as f:\n",
    "    for i in range(join_count):\n",
    "        for j in range(ROW1+ROW2):\n",
    "            f.write(result[i][j]+\" \")\n",
    "        f.write(\"\\n\")"
   ]
  },
  {
   "cell_type": "code",
   "execution_count": 13,
   "id": "65821972",
   "metadata": {},
   "outputs": [
    {
     "name": "stdout",
     "output_type": "stream",
     "text": [
      "Result rows :  245\n",
      "블록의 접근횟수 :  289\n"
     ]
    }
   ],
   "source": [
    "print(\"Result rows : \",join_count)\n",
    "print(\"블록의 접근횟수 : \",n)"
   ]
  },
  {
   "cell_type": "code",
   "execution_count": null,
   "id": "e546a421",
   "metadata": {},
   "outputs": [],
   "source": []
  }
 ],
 "metadata": {
  "kernelspec": {
   "display_name": "Python 3",
   "language": "python",
   "name": "python3"
  },
  "language_info": {
   "codemirror_mode": {
    "name": "ipython",
    "version": 3
   },
   "file_extension": ".py",
   "mimetype": "text/x-python",
   "name": "python",
   "nbconvert_exporter": "python",
   "pygments_lexer": "ipython3",
   "version": "3.8.8"
  }
 },
 "nbformat": 4,
 "nbformat_minor": 5
}
